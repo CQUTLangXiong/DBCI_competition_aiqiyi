{
 "cells": [
  {
   "cell_type": "code",
   "execution_count": 1,
   "id": "20d6de8a",
   "metadata": {},
   "outputs": [],
   "source": [
    "import numpy as np\n",
    "import pandas as pd\n",
    "filename='F:/BDCI竞赛/剧本角色情感识别/test_dataset.tsv'#文件地址\n",
    "test_data=[]\n",
    "with open(filename,'r',encoding='utf-8-sig') as file_to_read:\n",
    "     for line in file_to_read:\n",
    "        test_data.append(list(line.strip().split()))\n",
    "        \n",
    "\n",
    "test_data=pd.DataFrame(test_data)      "
   ]
  },
  {
   "cell_type": "code",
   "execution_count": 4,
   "id": "b7fb4e5e",
   "metadata": {},
   "outputs": [],
   "source": [
    "test_data\n",
    "test_data[2] = test_data[2].fillna(value='no character')"
   ]
  },
  {
   "cell_type": "code",
   "execution_count": 7,
   "id": "608ca270",
   "metadata": {},
   "outputs": [],
   "source": [
    "test_data\n",
    "test_data.columns=test_data.iloc[0].values\n",
    "test_data=test_data.drop(0)\n",
    "test_data=test_data.reset_index(drop=True)"
   ]
  },
  {
   "cell_type": "code",
   "execution_count": 10,
   "id": "809c4b0e",
   "metadata": {},
   "outputs": [],
   "source": [
    "test_data.to_excel('F:/BDCI竞赛/剧本角色情感识别/test_data.xlsx')"
   ]
  },
  {
   "cell_type": "code",
   "execution_count": null,
   "id": "36c2b972",
   "metadata": {},
   "outputs": [],
   "source": []
  }
 ],
 "metadata": {
  "kernelspec": {
   "display_name": "Python 3",
   "language": "python",
   "name": "python3"
  },
  "language_info": {
   "codemirror_mode": {
    "name": "ipython",
    "version": 3
   },
   "file_extension": ".py",
   "mimetype": "text/x-python",
   "name": "python",
   "nbconvert_exporter": "python",
   "pygments_lexer": "ipython3",
   "version": "3.7.6"
  }
 },
 "nbformat": 4,
 "nbformat_minor": 5
}
