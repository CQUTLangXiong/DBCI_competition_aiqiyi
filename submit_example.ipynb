{
 "cells": [
  {
   "cell_type": "code",
   "execution_count": 2,
   "id": "bafc8417",
   "metadata": {},
   "outputs": [],
   "source": [
    "import numpy as np\n",
    "import pandas as pd\n",
    "filename='F:/BDCI竞赛/剧本角色情感识别/submit_example.tsv'#文件地址\n",
    "submit_data=[]\n",
    "with open(filename,'r',encoding='utf-8-sig') as file_to_read:\n",
    "     for line in file_to_read:\n",
    "        submit_data.append(list(line.strip().split()))\n",
    "        \n",
    "\n",
    "submit_data=pd.DataFrame(submit_data)      "
   ]
  },
  {
   "cell_type": "code",
   "execution_count": 5,
   "id": "03afa1e9",
   "metadata": {},
   "outputs": [],
   "source": [
    "submit_data.columns=submit_data.iloc[0].values\n",
    "submit_data=submit_data.drop(0)\n",
    "submit_data=submit_data.reset_index(drop=True)\n",
    "\n",
    "submit_data.to_excel('F:/BDCI竞赛/剧本角色情感识别/submit.xlsx')"
   ]
  },
  {
   "cell_type": "code",
   "execution_count": null,
   "id": "23a0b893",
   "metadata": {},
   "outputs": [],
   "source": []
  }
 ],
 "metadata": {
  "kernelspec": {
   "display_name": "Python 3",
   "language": "python",
   "name": "python3"
  },
  "language_info": {
   "codemirror_mode": {
    "name": "ipython",
    "version": 3
   },
   "file_extension": ".py",
   "mimetype": "text/x-python",
   "name": "python",
   "nbconvert_exporter": "python",
   "pygments_lexer": "ipython3",
   "version": "3.7.6"
  }
 },
 "nbformat": 4,
 "nbformat_minor": 5
}
